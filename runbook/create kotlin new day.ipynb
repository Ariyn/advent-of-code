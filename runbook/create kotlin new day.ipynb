{
 "cells": [
  {
   "cell_type": "code",
   "execution_count": 45,
   "id": "37386b48",
   "metadata": {},
   "outputs": [],
   "source": [
    "import os\n",
    "cwd = os.getcwd()"
   ]
  },
  {
   "cell_type": "code",
   "execution_count": 46,
   "id": "be899200",
   "metadata": {},
   "outputs": [
    {
     "name": "stdout",
     "output_type": "stream",
     "text": [
      "input day8\n"
     ]
    }
   ],
   "source": [
    "day = input(\"input day\")"
   ]
  },
  {
   "cell_type": "code",
   "execution_count": 47,
   "id": "fd7b88cf",
   "metadata": {},
   "outputs": [
    {
     "name": "stdout",
     "output_type": "stream",
     "text": [
      "input part1\n"
     ]
    }
   ],
   "source": [
    "part = input(\"input part\")"
   ]
  },
  {
   "cell_type": "code",
   "execution_count": 48,
   "id": "35f5f7ea",
   "metadata": {},
   "outputs": [
    {
     "name": "stdout",
     "output_type": "stream",
     "text": [
      "creating day8 part 1\n"
     ]
    },
    {
     "name": "stderr",
     "output_type": "stream",
     "text": [
      "  % Total    % Received % Xferd  Average Speed   Time    Time     Time  Current\n",
      "                                 Dload  Upload   Total   Spent    Left  Speed\n",
      "\r",
      "  0     0    0     0    0     0      0      0 --:--:-- --:--:-- --:--:--     0\r",
      "  0     0    0     0    0     0      0      0 --:--:-- --:--:-- --:--:--     0\r",
      "100    71    0    71    0     0     82      0 --:--:-- --:--:-- --:--:--    83\n"
     ]
    }
   ],
   "source": [
    "%%bash -s \"$day\" \"$part\"\n",
    "\n",
    "parent_folder=$PWD/../kotlin/src/main/kotlin\n",
    "folder_name=$parent_folder/\"day$1part$2\"\n",
    "echo \"creating day$1 part $2\"\n",
    "\n",
    "mkdir $folder_name;\n",
    "\n",
    "cat > $folder_name/main.kt <<- EOS\n",
    "package day$1part$2\n",
    "\n",
    "import readInputLines\n",
    "\n",
    "val exampleLines = (\"\").split(\"\\\\n\")\n",
    "\n",
    "fun main(args: Array<String>) {\n",
    "    val lines = readInputLines(args)\n",
    "    println(lines)\n",
    "}\n",
    "EOS\n",
    "\n",
    "curl \"https://adventofcode.com/2022/day/$1/input\" > $PWD/../inputs/day$1.txt"
   ]
  },
  {
   "cell_type": "code",
   "execution_count": 49,
   "id": "8239f1b4",
   "metadata": {},
   "outputs": [],
   "source": [
    "import xml.etree.ElementTree as elemTree\n",
    "\n",
    "workspace_xml_path = cwd+\"/../.idea/workspace.xml\"\n",
    "tree = elemTree.parse(workspace_xml_path)\n",
    "\n",
    "run_manager = tree.find('./component[@name=\"RunManager\"]')\n",
    "\n",
    "configuration = elemTree.SubElement(run_manager, \"configuration\")\n",
    "configuration.set(\"name\", f\"day{day} part {part}\")\n",
    "configuration.set(\"type\", \"JetRunConfigurationType\")\n",
    "\n",
    "option = elemTree.SubElement(configuration, \"option\")\n",
    "option.set(\"name\", \"MAIN_CLASS_NAME\")\n",
    "option.set(\"value\", f\"day{day}part{part}.MainKt\")\n",
    "\n",
    "module = elemTree.SubElement(configuration, \"module\")\n",
    "module.set(\"name\", \"kotlin.main\")\n",
    "\n",
    "option = elemTree.SubElement(configuration, \"option\")\n",
    "option.set(\"name\", \"PROGRAM_PARAMETERS\")\n",
    "option.set(\"value\", f\"$PROJECT_DIR$/inputs/day{day}.txt\")\n",
    "\n",
    "shorten_classpath = elemTree.SubElement(configuration, \"shortenClasspath\")\n",
    "shorten_classpath.set(\"name\", \"NONE\")\n",
    "\n",
    "method = elemTree.SubElement(configuration, \"method\")\n",
    "method.set(\"v\", \"2\")\n",
    "\n",
    "method_option = elemTree.SubElement(method, \"option\")\n",
    "method_option.set(\"name\", \"Make\")\n",
    "method_option.set(\"enabled\", \"true\")\n",
    "\n",
    "## add list\n",
    "item = elemTree.Element(\"item\")\n",
    "item.set(\"itemvalue\", f\"Kotlin.day{day} part {part}\")\n",
    "\n",
    "run_manager.find('./list').append(item)\n",
    "tree.write(workspace_xml_path)"
   ]
  },
  {
   "cell_type": "code",
   "execution_count": null,
   "id": "bd63c8d9",
   "metadata": {},
   "outputs": [],
   "source": []
  }
 ],
 "metadata": {
  "kernelspec": {
   "display_name": "Python 3 (ipykernel)",
   "language": "python",
   "name": "python3"
  },
  "language_info": {
   "codemirror_mode": {
    "name": "ipython",
    "version": 3
   },
   "file_extension": ".py",
   "mimetype": "text/x-python",
   "name": "python",
   "nbconvert_exporter": "python",
   "pygments_lexer": "ipython3",
   "version": "3.8.9"
  }
 },
 "nbformat": 4,
 "nbformat_minor": 5
}
